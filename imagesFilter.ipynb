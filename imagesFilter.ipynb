{
 "cells": [
  {
   "cell_type": "markdown",
   "id": "6846c3ef",
   "metadata": {},
   "source": [
    "# DELETING MASK IMAGES FROM DATA FOLDER"
   ]
  },
  {
   "cell_type": "code",
   "execution_count": 4,
   "id": "009cbb15",
   "metadata": {},
   "outputs": [
    {
     "name": "stdout",
     "output_type": "stream",
     "text": [
      "Mask images in the 'benign' folder on your desktop have been deleted.\n"
     ]
    }
   ],
   "source": [
    "import os\n",
    "\n",
    "# Directory containing your images on the desktop\n",
    "path = os.path.expanduser(\"your path\")\n",
    "directory = os.path.join(path, \"benign\")\n",
    "\n",
    "# List all files in the directory\n",
    "files = os.listdir(directory)\n",
    "\n",
    "# Iterate through the files and keep only those that have 'benign' in the filename\n",
    "# and have '_mask' in the filename\n",
    "for filename in files:\n",
    "    if 'benign' in filename and '_mask' in filename:\n",
    "        file_path = os.path.join(directory, filename)\n",
    "        # Check if the file is an image (e.g., ends with '.png')\n",
    "        if filename.lower().endswith(('.png', '.jpg', '.jpeg', '.gif', '.bmp')):\n",
    "            os.remove(file_path)  # Delete the mask image\n",
    "\n",
    "print(\"Mask images in the 'benign' folder have been deleted.\")\n"
   ]
  },
  {
   "cell_type": "code",
   "execution_count": 5,
   "id": "d3b9781a",
   "metadata": {},
   "outputs": [
    {
     "name": "stdout",
     "output_type": "stream",
     "text": [
      "Mask images in the 'malignant' folder on your desktop have been deleted.\n"
     ]
    }
   ],
   "source": [
    "\n",
    "# Directory containing your images on the desktop\n",
    "path = os.path.expanduser(\"Your path\")\n",
    "directory = os.path.join(path, \"malignant\")\n",
    "\n",
    "# List all files in the directory\n",
    "files = os.listdir(directory)\n",
    "\n",
    "# Iterate through the files and keep only those that have 'benign' in the filename\n",
    "# and have '_mask' in the filename\n",
    "for filename in files:\n",
    "    if 'malignant' in filename and '_mask' in filename:\n",
    "        file_path = os.path.join(directory, filename)\n",
    "        # Check if the file is an image (e.g., ends with '.png')\n",
    "        if filename.lower().endswith(('.png', '.jpg', '.jpeg', '.gif', '.bmp')):\n",
    "            os.remove(file_path)  # Delete the mask image\n",
    "\n",
    "print(\"Mask images in the 'malignant' folder have been deleted.\")\n",
    "\n"
   ]
  },
  {
   "cell_type": "code",
   "execution_count": 6,
   "id": "fa45f8c8",
   "metadata": {},
   "outputs": [
    {
     "name": "stdout",
     "output_type": "stream",
     "text": [
      "Mask images in the 'malignant' folder on your desktop have been deleted.\n"
     ]
    }
   ],
   "source": [
    "\n",
    "\n",
    "# Directory containing your images on the desktop\n",
    "path = os.path.expanduser(\"Your Path\")\n",
    "directory = os.path.join(desktop_path, \"normal\")\n",
    "\n",
    "# List all files in the directory\n",
    "files = os.listdir(directory)\n",
    "\n",
    "# Iterate through the files and keep only those that have 'benign' in the filename\n",
    "# and have '_mask' in the filename\n",
    "for filename in files:\n",
    "    if 'normal' in filename and '_mask' in filename:\n",
    "        file_path = os.path.join(directory, filename)\n",
    "        # Check if the file is an image (e.g., ends with '.png')\n",
    "        if filename.lower().endswith(('.png', '.jpg', '.jpeg', '.gif', '.bmp')):\n",
    "            os.remove(file_path)  # Delete the mask image\n",
    "\n",
    "print(\"Mask images in the 'normal' folder have been deleted.\")\n",
    "\n",
    "\n"
   ]
  },
  {
   "cell_type": "markdown",
   "id": "d8dd193a",
   "metadata": {},
   "source": [
    "# Filtering only MASK IMAGES"
   ]
  },
  {
   "cell_type": "code",
   "execution_count": 8,
   "id": "248ea2c3",
   "metadata": {},
   "outputs": [
    {
     "name": "stdout",
     "output_type": "stream",
     "text": [
      "Mask images in the 'predict' folder on your desktop have been filtered.\n"
     ]
    }
   ],
   "source": [
    "# Directory containing your images\n",
    "path = os.path.expanduser(\"\")\n",
    "directory = os.path.join(path, \"predict\")\n",
    "\n",
    "# List all files in the directory\n",
    "files = os.listdir(directory)\n",
    "\n",
    "# Iterate through the files and keep only those that have 'benign' in the filename\n",
    "# and have '_mask' in the filename\n",
    "for filename in files:\n",
    "    if ('normal' in filename and '_mask' in filename) or ('benign' in filename and '_mask' in filename) or ('malignant' in filename and '_mask' in filename) :\n",
    "        file_path = os.path.join(directory, filename)\n",
    "        # Check if the file is an image (e.g., ends with '.png')\n",
    "        if filename.lower().endswith(('.png', '.jpg', '.jpeg', '.gif', '.bmp')):\n",
    "            os.remove(file_path)  # Delete the mask image\n",
    "\n",
    "print(\"Mask images in the 'predict' folder have been filtered.\")\n",
    "\n"
   ]
  },
  {
   "cell_type": "code",
   "execution_count": null,
   "id": "9ebd4368",
   "metadata": {},
   "outputs": [],
   "source": [
    "from PIL import Image\n",
    "from landingai.predict import Predictor\n",
    "# Enter your API Key\n",
    "endpoint_id = \"a2cb21de-3629-4ed0-976e-05cb6840add6\"\n",
    "api_key = \"FILL_YOUR_API_KEY\"\n",
    "# Load your image\n",
    "image = Image.open(\"image.png\")\n",
    "# Run inference\n",
    "predictor = Predictor(endpoint_id, api_key=api_key)\n",
    "predictions = predictor.predict(image)"
   ]
  },
  {
   "cell_type": "markdown",
   "id": "630430c9",
   "metadata": {},
   "source": [
    "# FOR SEGMENTATION DATA PRE-PROCESSING"
   ]
  },
  {
   "cell_type": "code",
   "execution_count": 15,
   "id": "c7d9c851",
   "metadata": {},
   "outputs": [
    {
     "name": "stdout",
     "output_type": "stream",
     "text": [
      "Mask images in the 'benign' folder on your desktop have been deleted.\n"
     ]
    }
   ],
   "source": [
    "import os\n",
    "\n",
    "# Directory containing your images on the desktop\n",
    "desktop_path = os.path.expanduser(\"Your directory\")\n",
    "directory = os.path.join(desktop_path, \"Masked\")\n",
    "\n",
    "# List all files in the directory\n",
    "files = os.listdir(directory)\n",
    "\n",
    "# Iterate through the files and keep only those that have 'benign' in the filename\n",
    "# and have '_mask' in the filename\n",
    "for filename in files:\n",
    "    if '_mask' not in filename:\n",
    "        file_path = os.path.join(directory, filename)\n",
    "        # Check if the file is an image (e.g., ends with '.png')\n",
    "        if filename.lower().endswith(('.png', '.jpg', '.jpeg', '.gif', '.bmp')):\n",
    "            os.remove(file_path)  # Delete the mask image\n",
    "\n",
    "print(\"Mask images in the 'benign' folder have been deleted.\")\n",
    "\n"
   ]
  },
  {
   "cell_type": "code",
   "execution_count": null,
   "id": "c6a2c09b",
   "metadata": {},
   "outputs": [],
   "source": [
    "import os\n",
    "\n",
    "folder_path = \"~/Desktop/Courses/CMPT340/Project/dataset-segmentation/Masked\"\n",
    "# Replace with the path to your folder\n",
    "\n",
    "# Expand the tilde to the home directory\n",
    "folder_path = os.path.expanduser(folder_path)\n",
    "\n",
    "# Iterate over files in the folder\n",
    "for filename in os.listdir(folder_path):\n",
    "    # Check if the filename contains \"_mask\"\n",
    "    if \"_mask\" in filename:\n",
    "        # Create the new filename by replacing \"_mask\" with an empty string\n",
    "        new_filename = filename.replace(\"_mask\", \"\")\n",
    "        \n",
    "        # Construct the full paths\n",
    "        old_path = os.path.join(folder_path, filename)\n",
    "        new_path = os.path.join(folder_path, new_filename)\n",
    "        \n",
    "        # Rename the file\n",
    "        os.rename(old_path, new_path)\n",
    "        print(f'Renamed: {filename} -> {new_filename}')\n",
    "\n"
   ]
  },
  {
   "cell_type": "code",
   "execution_count": null,
   "id": "729ef2d1",
   "metadata": {},
   "outputs": [],
   "source": [
    "import os\n",
    "import re\n",
    "\n",
    "folder_path = \"~/Desktop/Courses/CMPT340/Project/dataset-segmentation/Masked\"\n",
    "# Replace with the path to your folder\n",
    "\n",
    "# Expand the tilde to the home directory\n",
    "folder_path = os.path.expanduser(folder_path)\n",
    "\n",
    "# Iterate over files in the folder\n",
    "for filename in os.listdir(folder_path):\n",
    "    # Use a regular expression to match and remove the time-related string\n",
    "    new_filename = re.sub(r'\\s*\\d{1,2}\\.\\d{1,2}\\.\\d{1,2}\\s*[APMapm]{2}', '', filename)\n",
    "    \n",
    "    # Construct the full paths\n",
    "    old_path = os.path.join(folder_path, filename)\n",
    "    new_path = os.path.join(folder_path, new_filename)\n",
    "    \n",
    "    # Rename the file\n",
    "    os.rename(old_path, new_path)\n",
    "    print(f'Renamed: {filename} -> {new_filename}')\n"
   ]
  },
  {
   "cell_type": "code",
   "execution_count": 1,
   "id": "7f224cd8",
   "metadata": {},
   "outputs": [
    {
     "name": "stdout",
     "output_type": "stream",
     "text": [
      "OpenCV version: 4.8.1\n"
     ]
    }
   ],
   "source": [
    "import cv2\n",
    "print(f\"OpenCV version: {cv2.__version__}\")\n"
   ]
  },
  {
   "cell_type": "code",
   "execution_count": 2,
   "id": "dead9139",
   "metadata": {},
   "outputs": [
    {
     "name": "stdout",
     "output_type": "stream",
     "text": [
      "NumPy version: 1.26.2\n"
     ]
    }
   ],
   "source": [
    "import numpy as np\n",
    "print(f\"NumPy version: {np.__version__}\")\n"
   ]
  },
  {
   "cell_type": "code",
   "execution_count": 3,
   "id": "a21955e7",
   "metadata": {},
   "outputs": [
    {
     "name": "stdout",
     "output_type": "stream",
     "text": [
      "malignant (10).png is an 8-bit grayscale image.\n",
      "malignant (6).png is an 8-bit grayscale image.\n",
      "benign (16).png is an 8-bit grayscale image.\n",
      "benign (20).png is an 8-bit grayscale image.\n",
      "benign (2).png is an 8-bit grayscale image.\n",
      ".DS_Store does not meet the specified criteria.\n",
      "benign (3).png is an 8-bit grayscale image.\n",
      "benign (21).png is an 8-bit grayscale image.\n",
      "malignant (7).png is an 8-bit grayscale image.\n",
      "benign (17).png is an 8-bit grayscale image.\n",
      "normal (1).png does not meet the specified criteria.\n",
      "malignant (11).png is an 8-bit grayscale image.\n",
      "benign (30).png is an 8-bit grayscale image.\n",
      "benign (26).png is an 8-bit grayscale image.\n",
      "benign (4).png is an 8-bit grayscale image.\n",
      "malignant (20).png is an 8-bit grayscale image.\n",
      "malignant (16).png is an 8-bit grayscale image.\n",
      "benign (8).png is an 8-bit grayscale image.\n",
      "normal (6).png does not meet the specified criteria.\n",
      "benign (10).png is an 8-bit grayscale image.\n",
      "malignant (1).png is an 8-bit grayscale image.\n",
      "benign (11).png is an 8-bit grayscale image.\n",
      "normal (7).png does not meet the specified criteria.\n",
      "benign (9).png is an 8-bit grayscale image.\n",
      "malignant (17).png is an 8-bit grayscale image.\n",
      "malignant (21).png is an 8-bit grayscale image.\n",
      "benign (5).png is an 8-bit grayscale image.\n",
      "benign (27).png is an 8-bit grayscale image.\n",
      "malignant (22).png is an 8-bit grayscale image.\n",
      "normal (8).png does not meet the specified criteria.\n",
      "benign (6).png is an 8-bit grayscale image.\n",
      "malignant (18).png is an 8-bit grayscale image.\n",
      "benign (24).png is an 8-bit grayscale image.\n",
      "benign (12).png is an 8-bit grayscale image.\n",
      "malignant (2).png is an 8-bit grayscale image.\n",
      "normal (4).png does not meet the specified criteria.\n",
      "malignant (14).png is an 8-bit grayscale image.\n",
      "benign (28).png is an 8-bit grayscale image.\n",
      "benign (29).png is an 8-bit grayscale image.\n",
      "malignant (15).png is an 8-bit grayscale image.\n",
      "normal (5).png does not meet the specified criteria.\n",
      "benign (13).png is an 8-bit grayscale image.\n",
      "malignant (3).png is an 8-bit grayscale image.\n",
      "benign (25).png is an 8-bit grayscale image.\n",
      "malignant (19).png is an 8-bit grayscale image.\n",
      "benign (7).png is an 8-bit grayscale image.\n",
      "normal (9).png does not meet the specified criteria.\n",
      "malignant (23).png is an 8-bit grayscale image.\n",
      "benign (14).png is an 8-bit grayscale image.\n",
      "malignant (4).png is an 8-bit grayscale image.\n",
      "normal (2).png does not meet the specified criteria.\n",
      "malignant (12).png is an 8-bit grayscale image.\n",
      "benign (18).png is an 8-bit grayscale image.\n",
      "malignant (8).png is an 8-bit grayscale image.\n",
      "malignant (24).png is an 8-bit grayscale image.\n",
      "benign (22).png is an 8-bit grayscale image.\n",
      "benign (23).png is an 8-bit grayscale image.\n",
      "benign (1).png is an 8-bit grayscale image.\n",
      "malignant (25).png is an 8-bit grayscale image.\n",
      "benign (19).png is an 8-bit grayscale image.\n",
      "malignant (9).png is an 8-bit grayscale image.\n",
      "malignant (13).png is an 8-bit grayscale image.\n",
      "normal (10).png does not meet the specified criteria.\n",
      "normal (3).png does not meet the specified criteria.\n",
      "benign (15).png is an 8-bit grayscale image.\n",
      "malignant (5).png is an 8-bit grayscale image.\n"
     ]
    }
   ],
   "source": [
    "folder_path = \"\"\n",
    "folder_path = os.path.expanduser(folder_path)\n",
    "\n",
    "for filename in os.listdir(folder_path):\n",
    "    filepath = os.path.join(folder_path, filename)\n",
    "    try:\n",
    "        # Try to load the image\n",
    "        img = cv2.imread(filepath, cv2.IMREAD_UNCHANGED)\n",
    "\n",
    "        # Check if the image is 8-bit and grayscale\n",
    "        if img is not None and img.dtype == 'uint8' and len(img.shape) == 2:\n",
    "            print(f'{filename} is an 8-bit grayscale image.')\n",
    "        else:\n",
    "            print(f'{filename} does not meet the specified criteria.')\n",
    "\n",
    "    except Exception as e:\n",
    "        print(f'Error processing {filename}: {str(e)}')\n"
   ]
  },
  {
   "cell_type": "code",
   "execution_count": 5,
   "id": "50d05810",
   "metadata": {},
   "outputs": [
    {
     "name": "stdout",
     "output_type": "stream",
     "text": [
      "malignant (10).png is an 8-bit grayscale image.\n",
      "malignant (6).png is an 8-bit grayscale image.\n",
      "benign (16).png is an 8-bit grayscale image.\n",
      "benign (20).png is an 8-bit grayscale image.\n",
      "benign (2).png is an 8-bit grayscale image.\n",
      ".DS_Store does not meet the specified criteria.\n",
      "benign (3).png is an 8-bit grayscale image.\n",
      "benign (21).png is an 8-bit grayscale image.\n",
      "malignant (7).png is an 8-bit grayscale image.\n",
      "benign (17).png is an 8-bit grayscale image.\n",
      "normal (1).png does not meet the specified criteria.\n",
      "malignant (11).png is an 8-bit grayscale image.\n",
      "benign (30).png is an 8-bit grayscale image.\n",
      "benign (26).png is an 8-bit grayscale image.\n",
      "benign (4).png is an 8-bit grayscale image.\n",
      "malignant (20).png is an 8-bit grayscale image.\n",
      "malignant (16).png is an 8-bit grayscale image.\n",
      "benign (8).png is an 8-bit grayscale image.\n",
      "normal (6).png does not meet the specified criteria.\n",
      "benign (10).png is an 8-bit grayscale image.\n",
      "malignant (1).png is an 8-bit grayscale image.\n",
      "benign (11).png is an 8-bit grayscale image.\n",
      "normal (7).png does not meet the specified criteria.\n",
      "benign (9).png is an 8-bit grayscale image.\n",
      "malignant (17).png is an 8-bit grayscale image.\n",
      "malignant (21).png is an 8-bit grayscale image.\n",
      "benign (5).png is an 8-bit grayscale image.\n",
      "benign (27).png is an 8-bit grayscale image.\n",
      "malignant (22).png is an 8-bit grayscale image.\n",
      "normal (8).png does not meet the specified criteria.\n",
      "benign (6).png is an 8-bit grayscale image.\n",
      "malignant (18).png is an 8-bit grayscale image.\n",
      "benign (24).png is an 8-bit grayscale image.\n",
      "benign (12).png is an 8-bit grayscale image.\n",
      "malignant (2).png is an 8-bit grayscale image.\n",
      "normal (4).png does not meet the specified criteria.\n",
      "malignant (14).png is an 8-bit grayscale image.\n",
      "benign (28).png is an 8-bit grayscale image.\n",
      "benign (29).png is an 8-bit grayscale image.\n",
      "malignant (15).png is an 8-bit grayscale image.\n",
      "normal (5).png does not meet the specified criteria.\n",
      "benign (13).png is an 8-bit grayscale image.\n",
      "malignant (3).png is an 8-bit grayscale image.\n",
      "benign (25).png is an 8-bit grayscale image.\n",
      "malignant (19).png is an 8-bit grayscale image.\n",
      "benign (7).png is an 8-bit grayscale image.\n",
      "normal (9).png does not meet the specified criteria.\n",
      "malignant (23).png is an 8-bit grayscale image.\n",
      "benign (14).png is an 8-bit grayscale image.\n",
      "malignant (4).png is an 8-bit grayscale image.\n",
      "normal (2).png does not meet the specified criteria.\n",
      "malignant (12).png is an 8-bit grayscale image.\n",
      "benign (18).png is an 8-bit grayscale image.\n",
      "malignant (8).png is an 8-bit grayscale image.\n",
      "malignant (24).png is an 8-bit grayscale image.\n",
      "benign (22).png is an 8-bit grayscale image.\n",
      "benign (23).png is an 8-bit grayscale image.\n",
      "benign (1).png is an 8-bit grayscale image.\n",
      "malignant (25).png is an 8-bit grayscale image.\n",
      "benign (19).png is an 8-bit grayscale image.\n",
      "malignant (9).png is an 8-bit grayscale image.\n",
      "malignant (13).png is an 8-bit grayscale image.\n",
      "normal (10).png does not meet the specified criteria.\n",
      "normal (3).png does not meet the specified criteria.\n",
      "benign (15).png is an 8-bit grayscale image.\n",
      "malignant (5).png is an 8-bit grayscale image.\n",
      "\n",
      "Filenames that do not meet the criteria:\n",
      "['.DS_Store', 'normal (1).png', 'normal (6).png', 'normal (7).png', 'normal (8).png', 'normal (4).png', 'normal (5).png', 'normal (9).png', 'normal (2).png', 'normal (10).png', 'normal (3).png']\n"
     ]
    }
   ],
   "source": [
    "\n",
    "folder_path = \"\"\n",
    "folder_path = os.path.expanduser(folder_path)\n",
    "\n",
    "# List to store filenames that do not meet the criteria\n",
    "not_meeting_criteria = []\n",
    "\n",
    "for filename in os.listdir(folder_path):\n",
    "    filepath = os.path.join(folder_path, filename)\n",
    "    try:\n",
    "        # Try to load the image\n",
    "        img = cv2.imread(filepath, cv2.IMREAD_UNCHANGED)\n",
    "\n",
    "        # Check if the image is 8-bit and grayscale\n",
    "        if img is not None and img.dtype == 'uint8' and len(img.shape) == 2:\n",
    "            print(f'{filename} is an 8-bit grayscale image.')\n",
    "        else:\n",
    "            print(f'{filename} does not meet the specified criteria.')\n",
    "            not_meeting_criteria.append(filename)\n",
    "\n",
    "    except Exception as e:\n",
    "        print(f'Error processing {filename}: {str(e)}')\n",
    "\n",
    "# Display the list of filenames that do not meet the criteria\n",
    "print(\"\\nFilenames that do not meet the criteria:\")\n",
    "print(not_meeting_criteria)\n",
    "\n"
   ]
  },
  {
   "cell_type": "markdown",
   "id": "137bb548",
   "metadata": {},
   "source": [
    "# Creating Overlayed Images from Breast Cancer Dataset and saving into overlayed folder"
   ]
  },
  {
   "cell_type": "code",
   "execution_count": null,
   "id": "d43cd42d",
   "metadata": {},
   "outputs": [],
   "source": [
    "!pip install pillow"
   ]
  },
  {
   "cell_type": "code",
   "execution_count": null,
   "id": "25a04daa",
   "metadata": {},
   "outputs": [],
   "source": [
    "from PIL import Image\n",
    "import os\n",
    "\n",
    "# Set the path to the input folder containing images and masks\n",
    "input_folder = os.path.join(os.path.expanduser('~'), 'your path', 'your folder name\n",
    "# Set the path to the output folder where overlayed images will be saved\n",
    "output_folder = os.path.join(input_folder, 'overlayed-images')\n",
    "\n",
    "# Create the output folder\n",
    "os.makedirs(output_folder, exist_ok=True)\n",
    "\n",
    "# Function to overlay images and masks, resize if needed, and save the result\n",
    "def overlay_and_save(image_path, mask_path, output_path):\n",
    "    try:\n",
    "        # Check if both image and mask files exist\n",
    "        if os.path.exists(image_path) and os.path.exists(mask_path):\n",
    "            # Open the actual image and mask image\n",
    "            image = Image.open(image_path)\n",
    "            mask = Image.open(mask_path)\n",
    "\n",
    "            # Ensure both images have the same color mode\n",
    "            if image.mode != mask.mode:\n",
    "                mask = mask.convert(image.mode)\n",
    "\n",
    "            # Resize the images if their sizes don't match\n",
    "            if image.size != mask.size:\n",
    "                image = image.resize(mask.size)\n",
    "\n",
    "            # Overlay the image with the mask\n",
    "            overlayed = Image.blend(image, mask, alpha=0.5)\n",
    "\n",
    "            # Save the overlayed image to the output folder\n",
    "            overlayed.save(output_path)\n",
    "        else:\n",
    "            # Print a message if files are not found\n",
    "            print(f\"File not found for: {image_path} or {mask_path}. Skipping...\")\n",
    "    except Exception as e:\n",
    "        print(f\"An error occurred for: {image_path} or {mask_path}. Error: {str(e)}\")\n",
    "\n",
    "# Iterate through the subdirectories (benign, malignant, normal)\n",
    "labels = ['benign', 'malignant', 'normal']\n",
    "for label in labels:\n",
    "    label_folder = os.path.join(input_folder, label)\n",
    "    output_label_folder = os.path.join(output_folder, label)\n",
    "\n",
    "    # Create the output label folder\n",
    "    os.makedirs(output_label_folder, exist_ok=True)\n",
    "\n",
    "    if os.path.isdir(label_folder):\n",
    "        for image_filename in os.listdir(label_folder):\n",
    "            if image_filename.endswith('.png'):\n",
    "                image_path = os.path.join(label_folder, image_filename)\n",
    "                # Construct the mask file path based on the naming convention\n",
    "                mask_filename = image_filename.replace('.png', '_mask.png')\n",
    "                mask_path = os.path.join(label_folder, mask_filename)\n",
    "                # Construct the output file path\n",
    "                output_path = os.path.join(output_label_folder, image_filename)\n",
    "\n",
    "                overlay_and_save(image_path, mask_path, output_path)\n",
    "\n",
    "print(\"Overlayed images have been saved to\", output_folder)\n",
    "\n"
   ]
  }
 ],
 "metadata": {
  "kernelspec": {
   "display_name": "Python 3 (ipykernel)",
   "language": "python",
   "name": "python3"
  },
  "language_info": {
   "codemirror_mode": {
    "name": "ipython",
    "version": 3
   },
   "file_extension": ".py",
   "mimetype": "text/x-python",
   "name": "python",
   "nbconvert_exporter": "python",
   "pygments_lexer": "ipython3",
   "version": "3.9.7"
  }
 },
 "nbformat": 4,
 "nbformat_minor": 5
}
